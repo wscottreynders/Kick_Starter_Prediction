{
 "cells": [
  {
   "cell_type": "code",
   "execution_count": 788,
   "id": "30d22a2c",
   "metadata": {},
   "outputs": [],
   "source": [
    "%%capture\n",
    "!pip install category_encoders==2.*\n",
    "!pip install pandas_profiling==2.*"
   ]
  },
  {
   "cell_type": "code",
   "execution_count": 789,
   "id": "95e7f38c",
   "metadata": {},
   "outputs": [],
   "source": [
    "import pandas as pd\n",
    "import numpy as np\n",
    "\n",
    "from sklearn.model_selection import train_test_split\n",
    "from sklearn.ensemble import RandomForestClassifier\n",
    "from sklearn.impute import SimpleImputer\n",
    "from sklearn.pipeline import make_pipeline\n",
    "from sklearn.preprocessing import StandardScaler\n",
    "from xgboost import XGBClassifier\n",
    "from category_encoders import OneHotEncoder, OrdinalEncoder\n",
    "\n",
    "import matplotlib\n",
    "matplotlib.use('TkAgg')\n",
    "import matplotlib.pyplot as plt\n",
    "\n",
    "from pandas_profiling import ProfileReport\n",
    "\n",
    "import pickle\n"
   ]
  },
  {
   "cell_type": "markdown",
   "id": "61e2ee1d",
   "metadata": {},
   "source": [
    "Replace the file paths with downloaded files fromt the repository."
   ]
  },
  {
   "cell_type": "code",
   "execution_count": 790,
   "id": "73c8bea5",
   "metadata": {},
   "outputs": [],
   "source": [
    "#df_1 = pd.read_csv(r\"C:\\Users\\wscot\\OneDrive\\Desktop\\Kickstarter_2021-12-09T03_20_13_242Z\\Kickstarter.csv\")\n",
    "#df_2 = pd.read_csv(r\"C:\\Users\\wscot\\OneDrive\\Desktop\\Kickstarter_2021-12-09T03_20_13_242Z\\Kickstarter001.csv\")\n",
    "#df_3 = pd.read_csv(r\"C:\\Users\\wscot\\OneDrive\\Desktop\\Kickstarter_2021-12-09T03_20_13_242Z\\Kickstarter002.csv\")\n",
    "#df_5 = pd.read_csv(r\"C:\\Users\\wscot\\OneDrive\\Desktop\\Kickstarter_2021-12-09T03_20_13_242Z\\Kickstarter004.csv\")\n",
    "#df_6 = pd.read_csv(r\"C:\\Users\\wscot\\OneDrive\\Desktop\\Kickstarter_2021-12-09T03_20_13_242Z\\Kickstarter005.csv\")\n",
    "#df_7 = pd.read_csv(r\"C:\\Users\\wscot\\OneDrive\\Desktop\\Kickstarter_2021-12-09T03_20_13_242Z\\Kickstarter006.csv\")\n",
    "#df_8 = pd.read_csv(r\"C:\\Users\\wscot\\OneDrive\\Desktop\\Kickstarter_2021-12-09T03_20_13_242Z\\Kickstarter007.csv\")"
   ]
  },
  {
   "cell_type": "code",
   "execution_count": 791,
   "id": "2cb236b3",
   "metadata": {},
   "outputs": [],
   "source": [
    "def data_cleaner(df):\n",
    "    \n",
    "    \n",
    "# Remove the high cardinatilty columns    \n",
    "    threshold = 500\n",
    "    high_card_cols = [col for col in df.select_dtypes('object')\n",
    "                        if df[col].nunique() > threshold]\n",
    "    df = df.drop(high_card_cols, axis=1)\n",
    "    \n",
    "    \n",
    "# Remove other columns that I don't know what to do with\n",
    "    df.drop(['category'], axis=1, inplace=True)\n",
    "    df.drop(['country'], axis=1, inplace=True)\n",
    "    df.drop(['currency'], axis=1, inplace=True)\n",
    "    df.drop(['currency_symbol'], axis=1, inplace=True)\n",
    "    df.drop(['source_url'], axis=1, inplace=True)\n",
    "    df.drop(['state_changed_at'], axis=1, inplace=True)\n",
    "    df.drop(['static_usd_rate'], axis=1, inplace=True)\n",
    "    df.drop(['usd_type'], axis=1, inplace=True)\n",
    "    df.drop(['current_currency'], axis=1, inplace=True)\n",
    "    df.drop(['created_at'], axis=1, inplace=True)\n",
    "    df.drop(['deadline'], axis=1, inplace=True)\n",
    "    df.drop(['id'], axis=1, inplace=True)\n",
    "    df.drop(['is_starrable'], axis=1, inplace=True)\n",
    "    df.drop(['disable_communication'], axis=1, inplace=True)\n",
    "    df.drop(['launched_at'], axis=1, inplace=True)\n",
    "    df.drop(['usd_exchange_rate'], axis=1, inplace=True)\n",
    "    df.drop(['fx_rate'], axis=1, inplace=True)\n",
    "    df.drop(['currency_trailing_code'], axis=1, inplace=True)\n",
    "    df.drop(['staff_pick'], axis=1, inplace=True)\n",
    "    df.drop(['usd_pledged'], axis=1, inplace=True)\n",
    "    df.drop(['pledged'], axis=1, inplace=True)\n",
    "    df.drop(['spotlight'], axis=1, inplace=True)\n",
    "    \n",
    "    \n",
    "\n",
    "    \n",
    "    df['state'] = df['state'].replace('failed', 0, regex=True)\n",
    "    df['state'] = df['state'].replace('successful', 1, regex=True)\n",
    "    \n",
    "    df.drop(df.loc[df['state'] == 'canceled'].index, inplace=True)\n",
    "    df.drop(df.loc[df['state'] == 'live'].index, inplace=True)\n",
    "\n",
    "    \n",
    "    return df\n",
    "    "
   ]
  },
  {
   "cell_type": "code",
   "execution_count": 792,
   "id": "f676a8d5",
   "metadata": {
    "scrolled": false
   },
   "outputs": [],
   "source": [
    "frames = [df_1, df_2, df_3,df_5,df_6,df_7,df_8]\n",
    "\n",
    "df = pd.concat(frames)"
   ]
  },
  {
   "cell_type": "code",
   "execution_count": 793,
   "id": "f35d170b",
   "metadata": {},
   "outputs": [],
   "source": [
    "df = data_cleaner(df)"
   ]
  },
  {
   "cell_type": "code",
   "execution_count": 794,
   "id": "6ec41126",
   "metadata": {
    "scrolled": true
   },
   "outputs": [],
   "source": [
    "#profile = ProfileReport(df)\n",
    "#profile"
   ]
  },
  {
   "cell_type": "code",
   "execution_count": 795,
   "id": "64169205",
   "metadata": {},
   "outputs": [],
   "source": [
    "#Split the data into Feeature Matrix and Target Vector\n",
    "target = 'state'\n",
    "y = df[target]\n",
    "X = df.drop(columns=target)\n"
   ]
  },
  {
   "cell_type": "code",
   "execution_count": 796,
   "id": "98e908ec",
   "metadata": {},
   "outputs": [],
   "source": [
    "y=y.astype('int')\n"
   ]
  },
  {
   "cell_type": "code",
   "execution_count": 797,
   "id": "f36b0eef",
   "metadata": {},
   "outputs": [],
   "source": [
    "#train test splits\n",
    "X_train, X_val, y_train, y_val = train_test_split(X, y, test_size = 0.2, random_state = 42)"
   ]
  },
  {
   "cell_type": "code",
   "execution_count": 798,
   "id": "1483eeb1",
   "metadata": {},
   "outputs": [
    {
     "name": "stdout",
     "output_type": "stream",
     "text": [
      "Baseline accuracy: 0.6611048794167134\n"
     ]
    }
   ],
   "source": [
    "# Establish a baseline\n",
    "\n",
    "baseline_acc = y_train.value_counts(normalize=True).max()\n",
    "print('Baseline accuracy:', baseline_acc)"
   ]
  },
  {
   "cell_type": "code",
   "execution_count": 799,
   "id": "966b5e0b",
   "metadata": {},
   "outputs": [
    {
     "name": "stdout",
     "output_type": "stream",
     "text": [
      "[12:14:41] WARNING: C:/Users/Administrator/workspace/xgboost-win64_release_1.5.1/src/learner.cc:1115: Starting in XGBoost 1.3.0, the default evaluation metric used with the objective 'binary:logistic' was changed from 'error' to 'logloss'. Explicitly set eval_metric if you'd like to restore the old behavior.\n"
     ]
    },
    {
     "name": "stderr",
     "output_type": "stream",
     "text": [
      "C:\\Users\\wscot\\anaconda3\\lib\\site-packages\\xgboost\\sklearn.py:1224: UserWarning: The use of label encoder in XGBClassifier is deprecated and will be removed in a future release. To remove this warning, do the following: 1) Pass option use_label_encoder=False when constructing XGBClassifier object; and 2) Encode your labels (y) as integers starting with 0, i.e. 0, 1, 2, ..., [num_class - 1].\n",
      "  warnings.warn(label_encoder_deprecation_msg, UserWarning)\n"
     ]
    },
    {
     "data": {
      "text/plain": [
       "Pipeline(steps=[('ordinalencoder',\n",
       "                 OrdinalEncoder(cols=['country_displayable_name'],\n",
       "                                mapping=[{'col': 'country_displayable_name',\n",
       "                                          'data_type': dtype('O'),\n",
       "                                          'mapping': the United States      1\n",
       "the United Kingdom     2\n",
       "Canada                 3\n",
       "the Netherlands        4\n",
       "Germany                5\n",
       "France                 6\n",
       "Japan                  7\n",
       "Spain                  8\n",
       "Sweden                 9\n",
       "Poland                10\n",
       "Australia             11\n",
       "Mexico                12\n",
       "Austria               13\n",
       "Italy                 14\n",
       "Hong Kong             15\n",
       "Denmark               16\n",
       "Norway                17\n",
       "New Zealand           18\n",
       "Singapore             19\n",
       "Switzerla...\n",
       "                               gamma=0, gpu_id=-1, importance_type=None,\n",
       "                               interaction_constraints='',\n",
       "                               learning_rate=0.300000012, max_delta_step=0,\n",
       "                               max_depth=6, min_child_weight=1, missing=nan,\n",
       "                               monotone_constraints='()', n_estimators=100,\n",
       "                               n_jobs=12, num_parallel_tree=1, predictor='auto',\n",
       "                               random_state=0, reg_alpha=0, reg_lambda=1,\n",
       "                               scale_pos_weight=1, subsample=1,\n",
       "                               tree_method='exact', validate_parameters=1,\n",
       "                               verbosity=None))])"
      ]
     },
     "execution_count": 799,
     "metadata": {},
     "output_type": "execute_result"
    }
   ],
   "source": [
    "# create and fit the model\n",
    "model_boost = make_pipeline(\n",
    "    OrdinalEncoder(),\n",
    "    SimpleImputer(),\n",
    "    XGBClassifier()\n",
    ")\n",
    "\n",
    "model_boost.fit(X_train, y_train)"
   ]
  },
  {
   "cell_type": "code",
   "execution_count": 800,
   "id": "458285df",
   "metadata": {},
   "outputs": [],
   "source": [
    "# create and fit the model\n",
    "model_bag = make_pipeline(\n",
    "    OrdinalEncoder(),\n",
    "    SimpleImputer(),\n",
    "    RandomForestClassifier()\n",
    ")\n",
    "model_bag.fit(X_train, y_train);"
   ]
  },
  {
   "cell_type": "code",
   "execution_count": 801,
   "id": "1ce06452",
   "metadata": {},
   "outputs": [
    {
     "data": {
      "text/plain": [
       "Pipeline(steps=[('ordinalencoder',\n",
       "                 OrdinalEncoder(cols=['country_displayable_name'],\n",
       "                                mapping=[{'col': 'country_displayable_name',\n",
       "                                          'data_type': dtype('O'),\n",
       "                                          'mapping': the United States      1\n",
       "the United Kingdom     2\n",
       "Canada                 3\n",
       "the Netherlands        4\n",
       "Germany                5\n",
       "France                 6\n",
       "Japan                  7\n",
       "Spain                  8\n",
       "Sweden                 9\n",
       "Poland                10\n",
       "Australia             11\n",
       "Mexico                12\n",
       "Austria               13\n",
       "Italy                 14\n",
       "Hong Kong             15\n",
       "Denmark               16\n",
       "Norway                17\n",
       "New Zealand           18\n",
       "Singapore             19\n",
       "Switzerland           20\n",
       "Belgium               21\n",
       "Ireland               22\n",
       "Luxembourg            23\n",
       "Slovenia              24\n",
       "Greece                25\n",
       "NaN                   -2\n",
       "dtype: int64}])),\n",
       "                ('simpleimputer', SimpleImputer()),\n",
       "                ('decisiontreeclassifier',\n",
       "                 DecisionTreeClassifier(random_state=42))])"
      ]
     },
     "execution_count": 801,
     "metadata": {},
     "output_type": "execute_result"
    }
   ],
   "source": [
    "from sklearn.tree import DecisionTreeClassifier, plot_tree\n",
    "# Decision Tree\n",
    "model_dt = make_pipeline(\n",
    "    OrdinalEncoder(),\n",
    "    SimpleImputer(strategy='mean'),\n",
    "    DecisionTreeClassifier(random_state=42)\n",
    ")\n",
    "\n",
    "model_dt.fit(X_train, y_train)"
   ]
  },
  {
   "cell_type": "code",
   "execution_count": 802,
   "id": "914e9ad8",
   "metadata": {},
   "outputs": [
    {
     "name": "stdout",
     "output_type": "stream",
     "text": [
      "Bagging Model\n",
      "Training accuracy: 1.0\n",
      "Validation accuracy: 0.9873808188446439\n",
      "\n",
      "Boosting Model\n",
      "Training accuracy: 0.9999298934380259\n",
      "Validation accuracy: 0.9927089175546832\n",
      "\n",
      "Decision Tree Classifier\n",
      "Training accuracy: 1.0\n",
      "Validation accuracy: 0.982893998878295\n"
     ]
    }
   ],
   "source": [
    "print('Bagging Model')\n",
    "print('Training accuracy:', model_bag.score(X_train, y_train))\n",
    "print('Validation accuracy:', model_bag.score(X_val, y_val))\n",
    "print()\n",
    "print('Boosting Model')\n",
    "print('Training accuracy:', model_boost.score(X_train, y_train))\n",
    "print('Validation accuracy:', model_boost.score(X_val, y_val))\n",
    "print()\n",
    "print('Decision Tree Classifier')\n",
    "print('Training accuracy:', model_dt.score(X_train, y_train))\n",
    "print('Validation accuracy:', model_dt.score(X_val, y_val))"
   ]
  },
  {
   "cell_type": "code",
   "execution_count": 803,
   "id": "a32fa115",
   "metadata": {},
   "outputs": [],
   "source": [
    "global model_boost\n",
    "pickle.dump(model_boost, open('model.pickle', 'wb'))"
   ]
  },
  {
   "cell_type": "code",
   "execution_count": 804,
   "id": "b0e586c7",
   "metadata": {},
   "outputs": [],
   "source": [
    "filename = 'finalized_model.sav'\n",
    "pickle.dump(model_boost, open(filename, 'wb'))"
   ]
  },
  {
   "cell_type": "code",
   "execution_count": 805,
   "id": "dd893b09",
   "metadata": {},
   "outputs": [
    {
     "data": {
      "text/plain": [
       "Text(0.5, 0, 'gini importance')"
      ]
     },
     "execution_count": 805,
     "metadata": {},
     "output_type": "execute_result"
    }
   ],
   "source": [
    "from category_encoders import *\n",
    "features = model_boost.named_steps['ordinalencoder'].get_feature_names()\n",
    "gini = model_boost.named_steps['xgbclassifier'].feature_importances_ \n",
    "pd.Series(data=gini, index=features).sort_values().tail(10).plot(kind='barh')\n",
    "plt.ylabel('features')\n",
    "plt.xlabel('gini importance')"
   ]
  },
  {
   "cell_type": "code",
   "execution_count": 806,
   "id": "ac5e8128",
   "metadata": {},
   "outputs": [],
   "source": [
    "from sklearn.metrics import plot_confusion_matrix, classification_report\n",
    "plot_confusion_matrix(\n",
    "    model_boost,\n",
    "    X_val,\n",
    "    y_val,\n",
    "    values_format = '.0f'  \n",
    ")\n",
    "\n",
    "plt.show()"
   ]
  },
  {
   "cell_type": "code",
   "execution_count": 807,
   "id": "2044249a",
   "metadata": {},
   "outputs": [
    {
     "name": "stdout",
     "output_type": "stream",
     "text": [
      "                precision    recall  f1-score   support\n",
      "\n",
      "not successful       1.00      0.98      0.99      1207\n",
      "    successful       0.99      1.00      0.99      2359\n",
      "\n",
      "      accuracy                           0.99      3566\n",
      "     macro avg       0.99      0.99      0.99      3566\n",
      "  weighted avg       0.99      0.99      0.99      3566\n",
      "\n"
     ]
    }
   ],
   "source": [
    "print(classification_report(y_val,\n",
    "                      model_boost.predict(X_val),\n",
    "                      target_names =['not successful','successful']))"
   ]
  },
  {
   "cell_type": "code",
   "execution_count": null,
   "id": "0fb85f09",
   "metadata": {},
   "outputs": [],
   "source": []
  }
 ],
 "metadata": {
  "kernelspec": {
   "display_name": "Python 3",
   "language": "python",
   "name": "python3"
  },
  "language_info": {
   "codemirror_mode": {
    "name": "ipython",
    "version": 3
   },
   "file_extension": ".py",
   "mimetype": "text/x-python",
   "name": "python",
   "nbconvert_exporter": "python",
   "pygments_lexer": "ipython3",
   "version": "3.8.8"
  }
 },
 "nbformat": 4,
 "nbformat_minor": 5
}
